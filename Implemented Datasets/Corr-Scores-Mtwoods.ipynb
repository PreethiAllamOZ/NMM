{
 "cells": [
  {
   "cell_type": "code",
   "execution_count": 4,
   "id": "3d398fda",
   "metadata": {},
   "outputs": [],
   "source": [
    "import pandas as pd\n"
   ]
  },
  {
   "cell_type": "code",
   "execution_count": 12,
   "id": "a3beacfd",
   "metadata": {},
   "outputs": [],
   "source": [
    "data=pd.read_csv(r\"C:\\Users\\pallam\\Documents\\GitHub\\NMM\\Implemented Datasets\\ Scripts\\Assay_mtwoods_NearMissPredictions.csv\", index_col=False)"
   ]
  },
  {
   "cell_type": "code",
   "execution_count": 27,
   "id": "769d9f94",
   "metadata": {},
   "outputs": [
    {
     "name": "stdout",
     "output_type": "stream",
     "text": [
      "PH vs UPPM 0.16679426634071387\n",
      "PH vs KPPM 0.15895375554970584\n",
      "PH vs MgPPM 0.11757945522041104\n",
      "PH vs CaPPM 0.08097668746912272\n",
      "PH vs SbPPM 0.07693229731722498\n",
      "PH vs AsPPM 0.05206647551855964\n",
      "PH vs AgPPM 0.03891667789135067\n",
      "PH vs PbPPM 0.016378895357180977\n",
      "PH vs MoPPM -0.0005609118746872966\n",
      "PH vs YPPM -0.0009450579190364597\n",
      "PH vs NiPPM -0.021896402020348277\n",
      "PH vs BiPPM -0.03625875192726402\n",
      "PH vs CePPM -0.03852049124448565\n",
      "PH vs PPPM -0.041015101305227245\n",
      "PH vs LaPPM -0.045686090467673905\n",
      "PH vs SPPM -0.04647926785655878\n",
      "PH vs CoPPM -0.06269335617090652\n",
      "PH vs CuPPM -0.08098045912905051\n",
      "PH vs AuPPM -0.10013877238463006\n",
      "PH vs MnPPM -0.10895220886306466\n",
      "PH vs TiPPM -0.11287251597840701\n",
      "PH vs BaPPM -0.20145388363411518\n",
      "PH vs SrPPM -0.28346169634442847\n",
      "PH vs FePPM -0.2836245431902713\n",
      "PH vs NaPPM -0.3299165245878934\n",
      "PH vs ZnPPm -0.33875130906803236\n"
     ]
    }
   ],
   "source": [
    "data.columns.to_list()\n",
    "\n",
    "\n",
    "\n",
    "\n",
    "print(\"PH vs UPPM\",data.CloseValue_Promhill_Model.corr(data.UPPM))\n",
    "print(\"PH vs KPPM\",data.CloseValue_Promhill_Model.corr(data.KPPM))\n",
    "print(\"PH vs MgPPM\",data.CloseValue_Promhill_Model.corr(data.MgPPM))\n",
    "print(\"PH vs CaPPM\",data.CloseValue_Promhill_Model.corr(data.CaPPM))\n",
    "print(\"PH vs SbPPM\",data.CloseValue_Promhill_Model.corr(data.SbPPM))\n",
    "print(\"PH vs AsPPM\",data.CloseValue_Promhill_Model.corr(data.AsPPM))\n",
    "print(\"PH vs AgPPM\",data.CloseValue_Promhill_Model.corr(data.AgPPM))\n",
    "print(\"PH vs PbPPM\",data.CloseValue_Promhill_Model.corr(data.PbPPM))\n",
    "print(\"PH vs MoPPM\",data.CloseValue_Promhill_Model.corr(data.MoPPM))\n",
    "print(\"PH vs YPPM\",data.CloseValue_Promhill_Model.corr(data.YPPM))\n",
    "print(\"PH vs NiPPM\",data.CloseValue_Promhill_Model.corr(data.NiPPM))\n",
    "print(\"PH vs BiPPM\",data.CloseValue_Promhill_Model.corr(data.BiPPM))\n",
    "\n",
    "print(\"PH vs CePPM\",data.CloseValue_Promhill_Model.corr(data.CePPM))\n",
    "\n",
    "print(\"PH vs PPPM\",data.CloseValue_Promhill_Model.corr(data.PPPM))\n",
    "\n",
    "print(\"PH vs LaPPM\",data.CloseValue_Promhill_Model.corr(data.LaPPM))\n",
    "print(\"PH vs SPPM\",data.CloseValue_Promhill_Model.corr(data.SPPM))\n",
    "\n",
    "print(\"PH vs CoPPM\",data.CloseValue_Promhill_Model.corr(data.CoPPM))\n",
    "print(\"PH vs CuPPM\",data.CloseValue_Promhill_Model.corr(data.CuPPM))\n",
    "print(\"PH vs AuPPM\",data.CloseValue_Promhill_Model.corr(data.AuPPM))\n",
    "\n",
    "print(\"PH vs MnPPM\",data.CloseValue_Promhill_Model.corr(data.MnPPM))\n",
    "\n",
    "print(\"PH vs TiPPM\",data.CloseValue_Promhill_Model.corr(data.TiPPM))\n",
    "\n",
    "\n",
    "print(\"PH vs BaPPM\",data.CloseValue_Promhill_Model.corr(data.BaPPM))\n",
    "print(\"PH vs SrPPM\",data.CloseValue_Promhill_Model.corr(data.SrPPM))\n",
    "\n",
    "\n",
    "print(\"PH vs FePPM\",data.CloseValue_Promhill_Model.corr(data.FePPM))\n",
    "\n",
    "\n",
    "\n",
    "\n",
    "\n",
    "print(\"PH vs NaPPM\",data.CloseValue_Promhill_Model.corr(data.NaPPM))\n",
    "\n",
    "\n",
    "\n",
    "\n",
    "\n",
    "print(\"PH vs ZnPPm\",data.CloseValue_Promhill_Model.corr(data.ZnPPM))\n",
    "\n",
    "#, AuPPM, AgPPM, UPPM, FePPM, AsPPM, BaPPM, BiPPM,\n",
    "#CaPPM, CePPM, CoPPM, KPPM, LaPPM, MgPPM, MnPPM,MoPPM, \n",
    "#NaPPM,NiPPM,PPPM,PbPPM, SbPPM, SPPM,SrPPM,TiPPM ,YPPM, ZnPPM"
   ]
  },
  {
   "cell_type": "code",
   "execution_count": null,
   "id": "6d731a6c",
   "metadata": {},
   "outputs": [],
   "source": [
    "pd."
   ]
  },
  {
   "cell_type": "code",
   "execution_count": null,
   "id": "8bed115f",
   "metadata": {},
   "outputs": [],
   "source": []
  },
  {
   "cell_type": "code",
   "execution_count": null,
   "id": "4fdc9fbb",
   "metadata": {},
   "outputs": [],
   "source": []
  },
  {
   "cell_type": "code",
   "execution_count": null,
   "id": "7d87e64f",
   "metadata": {},
   "outputs": [],
   "source": []
  },
  {
   "cell_type": "code",
   "execution_count": null,
   "id": "54f5b8c0",
   "metadata": {},
   "outputs": [],
   "source": []
  },
  {
   "cell_type": "code",
   "execution_count": null,
   "id": "093825ad",
   "metadata": {},
   "outputs": [],
   "source": []
  },
  {
   "cell_type": "code",
   "execution_count": null,
   "id": "9e93950f",
   "metadata": {},
   "outputs": [],
   "source": []
  },
  {
   "cell_type": "code",
   "execution_count": null,
   "id": "08d999a1",
   "metadata": {},
   "outputs": [],
   "source": []
  },
  {
   "cell_type": "code",
   "execution_count": null,
   "id": "4fe57a81",
   "metadata": {},
   "outputs": [],
   "source": []
  },
  {
   "cell_type": "code",
   "execution_count": null,
   "id": "7dfa7202",
   "metadata": {},
   "outputs": [],
   "source": []
  },
  {
   "cell_type": "code",
   "execution_count": null,
   "id": "5c342e19",
   "metadata": {},
   "outputs": [],
   "source": []
  },
  {
   "cell_type": "code",
   "execution_count": 3,
   "id": "62790eeb",
   "metadata": {},
   "outputs": [],
   "source": []
  }
 ],
 "metadata": {
  "kernelspec": {
   "display_name": "Python 3 (ipykernel)",
   "language": "python",
   "name": "python3"
  },
  "language_info": {
   "codemirror_mode": {
    "name": "ipython",
    "version": 3
   },
   "file_extension": ".py",
   "mimetype": "text/x-python",
   "name": "python",
   "nbconvert_exporter": "python",
   "pygments_lexer": "ipython3",
   "version": "3.9.7"
  }
 },
 "nbformat": 4,
 "nbformat_minor": 5
}
